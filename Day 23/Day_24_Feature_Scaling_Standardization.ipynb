{
  "nbformat": 4,
  "nbformat_minor": 0,
  "metadata": {
    "colab": {
      "name": "Day 24 - Feature Scaling - Standardization.ipynb",
      "provenance": [],
      "collapsed_sections": []
    },
    "kernelspec": {
      "name": "python3",
      "display_name": "Python 3"
    },
    "language_info": {
      "name": "python"
    }
  },
  "cells": [
    {
      "cell_type": "code",
      "execution_count": 2,
      "metadata": {
        "id": "UhAfX5bWhFFH"
      },
      "outputs": [],
      "source": [
        "import numpy as np\n",
        "import pandas as pd\n",
        "import matplotlib.pyplot as plt\n",
        "import seaborn as sns"
      ]
    },
    {
      "cell_type": "code",
      "source": [
        "df = pd.read_csv('Social_Network_Ads.csv')"
      ],
      "metadata": {
        "id": "yeV97BVKoidP"
      },
      "execution_count": 3,
      "outputs": []
    },
    {
      "cell_type": "code",
      "source": [
        "df =df.iloc[:, 2:]"
      ],
      "metadata": {
        "id": "8Da6wGsooxoz"
      },
      "execution_count": 4,
      "outputs": []
    },
    {
      "cell_type": "code",
      "source": [
        "df.sample(5)"
      ],
      "metadata": {
        "colab": {
          "base_uri": "https://localhost:8080/",
          "height": 206
        },
        "id": "If9etLO-o0VV",
        "outputId": "03abc365-7942-4b13-d6b2-8715cf6af775"
      },
      "execution_count": 5,
      "outputs": [
        {
          "output_type": "execute_result",
          "data": {
            "text/plain": [
              "     Age  EstimatedSalary  Purchased\n",
              "176   35            47000          0\n",
              "74    32            18000          0\n",
              "387   39            71000          0\n",
              "8     25            33000          0\n",
              "71    24            27000          0"
            ],
            "text/html": [
              "\n",
              "  <div id=\"df-e47b3752-07b8-4fb1-9a8f-ab96f4db6ab0\">\n",
              "    <div class=\"colab-df-container\">\n",
              "      <div>\n",
              "<style scoped>\n",
              "    .dataframe tbody tr th:only-of-type {\n",
              "        vertical-align: middle;\n",
              "    }\n",
              "\n",
              "    .dataframe tbody tr th {\n",
              "        vertical-align: top;\n",
              "    }\n",
              "\n",
              "    .dataframe thead th {\n",
              "        text-align: right;\n",
              "    }\n",
              "</style>\n",
              "<table border=\"1\" class=\"dataframe\">\n",
              "  <thead>\n",
              "    <tr style=\"text-align: right;\">\n",
              "      <th></th>\n",
              "      <th>Age</th>\n",
              "      <th>EstimatedSalary</th>\n",
              "      <th>Purchased</th>\n",
              "    </tr>\n",
              "  </thead>\n",
              "  <tbody>\n",
              "    <tr>\n",
              "      <th>176</th>\n",
              "      <td>35</td>\n",
              "      <td>47000</td>\n",
              "      <td>0</td>\n",
              "    </tr>\n",
              "    <tr>\n",
              "      <th>74</th>\n",
              "      <td>32</td>\n",
              "      <td>18000</td>\n",
              "      <td>0</td>\n",
              "    </tr>\n",
              "    <tr>\n",
              "      <th>387</th>\n",
              "      <td>39</td>\n",
              "      <td>71000</td>\n",
              "      <td>0</td>\n",
              "    </tr>\n",
              "    <tr>\n",
              "      <th>8</th>\n",
              "      <td>25</td>\n",
              "      <td>33000</td>\n",
              "      <td>0</td>\n",
              "    </tr>\n",
              "    <tr>\n",
              "      <th>71</th>\n",
              "      <td>24</td>\n",
              "      <td>27000</td>\n",
              "      <td>0</td>\n",
              "    </tr>\n",
              "  </tbody>\n",
              "</table>\n",
              "</div>\n",
              "      <button class=\"colab-df-convert\" onclick=\"convertToInteractive('df-e47b3752-07b8-4fb1-9a8f-ab96f4db6ab0')\"\n",
              "              title=\"Convert this dataframe to an interactive table.\"\n",
              "              style=\"display:none;\">\n",
              "        \n",
              "  <svg xmlns=\"http://www.w3.org/2000/svg\" height=\"24px\"viewBox=\"0 0 24 24\"\n",
              "       width=\"24px\">\n",
              "    <path d=\"M0 0h24v24H0V0z\" fill=\"none\"/>\n",
              "    <path d=\"M18.56 5.44l.94 2.06.94-2.06 2.06-.94-2.06-.94-.94-2.06-.94 2.06-2.06.94zm-11 1L8.5 8.5l.94-2.06 2.06-.94-2.06-.94L8.5 2.5l-.94 2.06-2.06.94zm10 10l.94 2.06.94-2.06 2.06-.94-2.06-.94-.94-2.06-.94 2.06-2.06.94z\"/><path d=\"M17.41 7.96l-1.37-1.37c-.4-.4-.92-.59-1.43-.59-.52 0-1.04.2-1.43.59L10.3 9.45l-7.72 7.72c-.78.78-.78 2.05 0 2.83L4 21.41c.39.39.9.59 1.41.59.51 0 1.02-.2 1.41-.59l7.78-7.78 2.81-2.81c.8-.78.8-2.07 0-2.86zM5.41 20L4 18.59l7.72-7.72 1.47 1.35L5.41 20z\"/>\n",
              "  </svg>\n",
              "      </button>\n",
              "      \n",
              "  <style>\n",
              "    .colab-df-container {\n",
              "      display:flex;\n",
              "      flex-wrap:wrap;\n",
              "      gap: 12px;\n",
              "    }\n",
              "\n",
              "    .colab-df-convert {\n",
              "      background-color: #E8F0FE;\n",
              "      border: none;\n",
              "      border-radius: 50%;\n",
              "      cursor: pointer;\n",
              "      display: none;\n",
              "      fill: #1967D2;\n",
              "      height: 32px;\n",
              "      padding: 0 0 0 0;\n",
              "      width: 32px;\n",
              "    }\n",
              "\n",
              "    .colab-df-convert:hover {\n",
              "      background-color: #E2EBFA;\n",
              "      box-shadow: 0px 1px 2px rgba(60, 64, 67, 0.3), 0px 1px 3px 1px rgba(60, 64, 67, 0.15);\n",
              "      fill: #174EA6;\n",
              "    }\n",
              "\n",
              "    [theme=dark] .colab-df-convert {\n",
              "      background-color: #3B4455;\n",
              "      fill: #D2E3FC;\n",
              "    }\n",
              "\n",
              "    [theme=dark] .colab-df-convert:hover {\n",
              "      background-color: #434B5C;\n",
              "      box-shadow: 0px 1px 3px 1px rgba(0, 0, 0, 0.15);\n",
              "      filter: drop-shadow(0px 1px 2px rgba(0, 0, 0, 0.3));\n",
              "      fill: #FFFFFF;\n",
              "    }\n",
              "  </style>\n",
              "\n",
              "      <script>\n",
              "        const buttonEl =\n",
              "          document.querySelector('#df-e47b3752-07b8-4fb1-9a8f-ab96f4db6ab0 button.colab-df-convert');\n",
              "        buttonEl.style.display =\n",
              "          google.colab.kernel.accessAllowed ? 'block' : 'none';\n",
              "\n",
              "        async function convertToInteractive(key) {\n",
              "          const element = document.querySelector('#df-e47b3752-07b8-4fb1-9a8f-ab96f4db6ab0');\n",
              "          const dataTable =\n",
              "            await google.colab.kernel.invokeFunction('convertToInteractive',\n",
              "                                                     [key], {});\n",
              "          if (!dataTable) return;\n",
              "\n",
              "          const docLinkHtml = 'Like what you see? Visit the ' +\n",
              "            '<a target=\"_blank\" href=https://colab.research.google.com/notebooks/data_table.ipynb>data table notebook</a>'\n",
              "            + ' to learn more about interactive tables.';\n",
              "          element.innerHTML = '';\n",
              "          dataTable['output_type'] = 'display_data';\n",
              "          await google.colab.output.renderOutput(dataTable, element);\n",
              "          const docLink = document.createElement('div');\n",
              "          docLink.innerHTML = docLinkHtml;\n",
              "          element.appendChild(docLink);\n",
              "        }\n",
              "      </script>\n",
              "    </div>\n",
              "  </div>\n",
              "  "
            ]
          },
          "metadata": {},
          "execution_count": 5
        }
      ]
    },
    {
      "cell_type": "markdown",
      "source": [
        "## **Train Test Split**"
      ],
      "metadata": {
        "id": "8yI0hpbPo4Zm"
      }
    },
    {
      "cell_type": "code",
      "source": [
        "from sklearn.model_selection import train_test_split\n",
        "X_train, X_test, y_train, y_test = train_test_split(df.drop('Purchased',axis = 1), df['Purchased'],test_size=0.3,random_state=0)\n",
        "\n",
        "X_train.shape, X_test.shape"
      ],
      "metadata": {
        "colab": {
          "base_uri": "https://localhost:8080/"
        },
        "id": "AacT-ouvo1fb",
        "outputId": "909e9f58-06d1-4186-ba17-7debc9711a49"
      },
      "execution_count": 6,
      "outputs": [
        {
          "output_type": "execute_result",
          "data": {
            "text/plain": [
              "((280, 2), (120, 2))"
            ]
          },
          "metadata": {},
          "execution_count": 6
        }
      ]
    },
    {
      "cell_type": "markdown",
      "source": [
        "## **Standard Scaler**"
      ],
      "metadata": {
        "id": "E39ZVmGApT5w"
      }
    },
    {
      "cell_type": "code",
      "source": [
        "from sklearn.preprocessing import StandardScaler\n",
        "\n",
        "scaler = StandardScaler()\n",
        "\n",
        "# Fit the scaler object to the training set. It will learn the parameters\n",
        "scaler.fit(X_train)\n",
        "\n",
        "# transform train and test sets\n",
        "X_train_scaled = scaler.transform(X_train)\n",
        "X_test_scaled = scaler.transform(X_test)\n",
        " "
      ],
      "metadata": {
        "id": "XJ-wskcGpSYs"
      },
      "execution_count": 7,
      "outputs": []
    },
    {
      "cell_type": "code",
      "source": [
        "scaler.mean_   # It will give two mean values - one for age and one for Estimated Salary feature"
      ],
      "metadata": {
        "colab": {
          "base_uri": "https://localhost:8080/"
        },
        "id": "c5yz_1iepizn",
        "outputId": "966870ea-12e2-49e2-a770-3df26f910bca"
      },
      "execution_count": 8,
      "outputs": [
        {
          "output_type": "execute_result",
          "data": {
            "text/plain": [
              "array([3.78642857e+01, 6.98071429e+04])"
            ]
          },
          "metadata": {},
          "execution_count": 8
        }
      ]
    },
    {
      "cell_type": "code",
      "source": [
        "# If you notice here the original X_train was a dataframe while the scaled data is numpy array i.e. standard scaler returns a numpy array.\n",
        "X_train_scaled"
      ],
      "metadata": {
        "colab": {
          "base_uri": "https://localhost:8080/"
        },
        "id": "YI8UNN-XobtR",
        "outputId": "4e650da2-1ee8-4e15-817e-5a2a144642a7"
      },
      "execution_count": 9,
      "outputs": [
        {
          "output_type": "execute_result",
          "data": {
            "text/plain": [
              "array([[-1.1631724 , -1.5849703 ],\n",
              "       [ 2.17018137,  0.93098672],\n",
              "       [ 0.0133054 ,  1.22017719],\n",
              "       [ 0.20938504,  1.07558195],\n",
              "       [ 0.40546467, -0.48604654],\n",
              "       [-0.28081405, -0.31253226],\n",
              "       [ 0.99370357, -0.8330751 ],\n",
              "       [ 0.99370357,  1.8563962 ],\n",
              "       [ 0.0133054 ,  1.24909623],\n",
              "       [-0.86905295,  2.26126285],\n",
              "       [-1.1631724 , -1.5849703 ],\n",
              "       [ 2.17018137, -0.80415605],\n",
              "       [-1.35925203, -1.46929411],\n",
              "       [ 0.40546467,  2.2901819 ],\n",
              "       [ 0.79762394,  0.75747245],\n",
              "       [-0.96709276, -0.31253226],\n",
              "       [ 0.11134522,  0.75747245],\n",
              "       [-0.96709276,  0.55503912],\n",
              "       [ 0.30742485,  0.06341534],\n",
              "       [ 0.69958412, -1.26686079],\n",
              "       [-0.47689368, -0.0233418 ],\n",
              "       [-1.7514113 ,  0.3526058 ],\n",
              "       [-0.67297331,  0.12125343],\n",
              "       [ 0.40546467,  0.29476771],\n",
              "       [-0.28081405,  0.06341534],\n",
              "       [-0.47689368,  2.2901819 ],\n",
              "       [ 0.20938504,  0.03449629],\n",
              "       [ 1.28782302,  2.20342476],\n",
              "       [ 0.79762394,  0.26584866],\n",
              "       [-0.28081405,  0.15017248],\n",
              "       [ 0.0133054 , -0.54388463],\n",
              "       [-0.18277423,  0.15017248],\n",
              "       [-0.08473441,  0.23692961],\n",
              "       [ 0.0133054 , -0.25469417],\n",
              "       [ 2.17018137,  1.104501  ],\n",
              "       [-1.7514113 ,  0.3526058 ],\n",
              "       [ 1.87606192,  0.12125343],\n",
              "       [ 0.40546467, -0.13901799],\n",
              "       [-1.1631724 ,  0.29476771],\n",
              "       [ 0.79762394,  1.36477242],\n",
              "       [-0.28081405, -0.25469417],\n",
              "       [-1.65337148, -0.05226085],\n",
              "       [-0.96709276, -0.74631796],\n",
              "       [ 0.30742485,  0.49720103],\n",
              "       [-0.08473441, -1.06442747],\n",
              "       [-1.06513258,  0.58395817],\n",
              "       [ 0.11134522, -0.80415605],\n",
              "       [-0.96709276,  1.53828669],\n",
              "       [-0.67297331,  1.39369146],\n",
              "       [-1.26121221,  0.49720103],\n",
              "       [-0.28081405,  0.03449629],\n",
              "       [-0.08473441,  0.00557724],\n",
              "       [-0.28081405, -0.89091319],\n",
              "       [ 0.89566375, -1.35361793],\n",
              "       [-0.28081405,  2.2323438 ],\n",
              "       [ 0.99370357,  1.97207239],\n",
              "       [-1.1631724 ,  0.46828198],\n",
              "       [-1.26121221,  0.26584866],\n",
              "       [ 1.38586284,  1.97207239],\n",
              "       [ 1.28782302, -1.35361793],\n",
              "       [-0.28081405, -0.28361322],\n",
              "       [-0.47689368,  1.24909623],\n",
              "       [-0.77101313,  1.07558195],\n",
              "       [ 0.99370357, -1.06442747],\n",
              "       [ 0.30742485,  0.29476771],\n",
              "       [ 0.99370357,  0.75747245],\n",
              "       [-0.67297331, -1.49821316],\n",
              "       [-0.67297331,  0.03449629],\n",
              "       [ 0.50350449,  1.71180097],\n",
              "       [ 2.07214155,  0.17909152],\n",
              "       [-1.94749093, -0.74631796],\n",
              "       [-0.18277423,  1.39369146],\n",
              "       [ 0.40546467,  0.58395817],\n",
              "       [ 0.89566375, -1.1511846 ],\n",
              "       [-1.1631724 , -0.775237  ],\n",
              "       [ 0.20938504,  0.23692961],\n",
              "       [ 0.79762394, -0.31253226],\n",
              "       [ 2.07214155, -0.80415605],\n",
              "       [ 0.79762394,  0.12125343],\n",
              "       [-0.28081405,  0.61287722],\n",
              "       [-0.96709276, -0.31253226],\n",
              "       [ 0.20938504, -0.37037036],\n",
              "       [ 2.07214155,  2.11666762],\n",
              "       [ 1.87606192, -1.26686079],\n",
              "       [ 1.38586284, -0.91983223],\n",
              "       [ 0.89566375,  1.24909623],\n",
              "       [ 1.48390265,  2.11666762],\n",
              "       [-0.28081405, -1.23794174],\n",
              "       [ 1.97410174,  0.90206768],\n",
              "       [ 0.69958412, -0.71739891],\n",
              "       [-1.45729185,  0.3526058 ],\n",
              "       [ 0.79762394, -1.35361793],\n",
              "       [ 0.40546467, -0.13901799],\n",
              "       [-0.96709276,  0.41044389],\n",
              "       [ 0.0133054 , -0.31253226],\n",
              "       [-1.1631724 ,  0.41044389],\n",
              "       [-0.86905295, -1.2090227 ],\n",
              "       [-0.08473441,  0.03449629],\n",
              "       [-1.55533166, -0.42820845],\n",
              "       [ 0.99370357, -1.00658937],\n",
              "       [ 1.09174339, -1.2090227 ],\n",
              "       [ 0.0133054 , -0.13901799],\n",
              "       [-1.06513258, -1.52713221],\n",
              "       [ 0.79762394, -1.2090227 ],\n",
              "       [ 0.99370357,  2.05882953],\n",
              "       [-1.1631724 , -1.52713221],\n",
              "       [-0.28081405,  0.78639149],\n",
              "       [ 0.11134522, -0.31253226],\n",
              "       [-1.35925203, -1.23794174],\n",
              "       [-0.5749335 , -1.49821316],\n",
              "       [ 0.79762394,  0.52612008],\n",
              "       [-0.28081405, -0.34145131],\n",
              "       [ 1.7780221 , -0.28361322],\n",
              "       [ 0.89566375, -1.03550842],\n",
              "       [ 0.20938504,  0.06341534],\n",
              "       [-0.5749335 ,  0.87314863],\n",
              "       [-1.84945111, -1.41145602],\n",
              "       [-1.26121221,  0.58395817],\n",
              "       [-0.28081405,  0.52612008],\n",
              "       [-0.96709276, -1.09334651],\n",
              "       [ 1.1897832 , -1.44037507],\n",
              "       [ 0.20938504, -0.31253226],\n",
              "       [ 1.1897832 , -0.74631796],\n",
              "       [-0.28081405,  0.06341534],\n",
              "       [ 0.20938504,  2.08774857],\n",
              "       [ 0.79762394, -1.09334651],\n",
              "       [ 0.11134522,  0.03449629],\n",
              "       [-1.7514113 ,  0.12125343],\n",
              "       [-0.86905295,  0.15017248],\n",
              "       [-0.67297331,  0.17909152],\n",
              "       [ 0.89566375, -1.29577984],\n",
              "       [ 0.20938504, -0.25469417],\n",
              "       [-0.37885386,  1.22017719],\n",
              "       [ 0.0133054 ,  0.29476771],\n",
              "       [ 0.40546467,  0.15017248],\n",
              "       [ 0.89566375, -0.65956082],\n",
              "       [ 0.11134522,  0.15017248],\n",
              "       [-1.84945111, -1.29577984],\n",
              "       [-0.08473441,  0.29476771],\n",
              "       [-0.18277423, -0.28361322],\n",
              "       [ 0.30742485, -0.51496559],\n",
              "       [-0.18277423,  1.59612479],\n",
              "       [ 0.99370357, -1.18010365],\n",
              "       [-0.18277423,  1.62504383],\n",
              "       [ 1.28782302,  1.8563962 ],\n",
              "       [-1.06513258, -0.37037036],\n",
              "       [ 0.0133054 ,  0.03449629],\n",
              "       [ 0.11134522, -0.25469417],\n",
              "       [-1.55533166, -1.23794174],\n",
              "       [-0.47689368, -0.28361322],\n",
              "       [ 0.99370357,  0.12125343],\n",
              "       [ 1.97410174, -1.35361793],\n",
              "       [ 1.48390265,  0.06341534],\n",
              "       [-0.5749335 ,  1.36477242],\n",
              "       [ 1.58194247,  0.00557724],\n",
              "       [-0.77101313,  0.29476771],\n",
              "       [ 1.97410174,  0.7285534 ],\n",
              "       [-1.1631724 , -0.51496559],\n",
              "       [ 0.69958412,  0.26584866],\n",
              "       [-1.35925203, -0.42820845],\n",
              "       [ 0.20938504,  0.15017248],\n",
              "       [-0.47689368, -1.2090227 ],\n",
              "       [ 0.6015443 ,  2.00099143],\n",
              "       [-1.55533166, -1.49821316],\n",
              "       [-0.47689368, -0.54388463],\n",
              "       [ 0.50350449,  1.82747716],\n",
              "       [-1.35925203, -1.09334651],\n",
              "       [ 0.79762394, -1.38253697],\n",
              "       [-0.28081405, -0.42820845],\n",
              "       [ 1.58194247,  0.98882482],\n",
              "       [ 0.99370357,  1.42261051],\n",
              "       [-0.28081405, -0.48604654],\n",
              "       [-0.08473441,  2.14558666],\n",
              "       [-1.45729185, -0.11009894],\n",
              "       [-0.08473441,  1.94315334],\n",
              "       [-0.67297331, -0.34145131],\n",
              "       [-0.47689368, -0.8330751 ],\n",
              "       [ 0.69958412, -1.38253697],\n",
              "       [-0.77101313, -1.5849703 ],\n",
              "       [-1.84945111, -1.46929411],\n",
              "       [ 1.09174339,  0.12125343],\n",
              "       [ 0.11134522,  1.50936765],\n",
              "       [-0.28081405,  0.09233438],\n",
              "       [ 0.11134522,  0.03449629],\n",
              "       [-1.35925203, -1.35361793],\n",
              "       [ 0.30742485,  0.06341534],\n",
              "       [-0.86905295,  0.38152485],\n",
              "       [ 1.58194247, -1.26686079],\n",
              "       [-0.28081405, -0.74631796],\n",
              "       [-0.08473441,  0.15017248],\n",
              "       [-0.86905295, -0.65956082],\n",
              "       [-0.67297331, -0.05226085],\n",
              "       [ 0.40546467, -0.45712749],\n",
              "       [-0.77101313,  1.88531525],\n",
              "       [ 1.38586284,  1.27801528],\n",
              "       [ 1.1897832 , -0.97767033],\n",
              "       [ 1.7780221 ,  1.82747716],\n",
              "       [-0.86905295, -0.25469417],\n",
              "       [-0.77101313,  0.55503912],\n",
              "       [-1.1631724 , -1.55605125],\n",
              "       [-0.47689368, -1.12226556],\n",
              "       [ 0.30742485,  0.06341534],\n",
              "       [-0.18277423, -1.06442747],\n",
              "       [ 1.67998229,  1.59612479],\n",
              "       [ 0.99370357,  1.76963906],\n",
              "       [ 0.30742485,  0.03449629],\n",
              "       [-0.77101313, -0.22577513],\n",
              "       [-0.08473441,  0.06341534],\n",
              "       [ 0.30742485, -0.19685608],\n",
              "       [ 1.97410174, -0.65956082],\n",
              "       [-0.77101313,  1.33585337],\n",
              "       [-1.7514113 , -0.60172273],\n",
              "       [-0.08473441,  0.12125343],\n",
              "       [ 0.30742485, -0.31253226],\n",
              "       [ 1.09174339,  0.55503912],\n",
              "       [-0.96709276,  0.26584866],\n",
              "       [ 1.48390265,  0.3526058 ],\n",
              "       [ 0.20938504, -0.37037036],\n",
              "       [ 2.17018137, -1.03550842],\n",
              "       [-0.28081405,  1.104501  ],\n",
              "       [-1.65337148,  0.06341534],\n",
              "       [ 0.0133054 ,  0.03449629],\n",
              "       [ 0.11134522,  1.04666291],\n",
              "       [-0.08473441, -0.37037036],\n",
              "       [-1.1631724 ,  0.06341534],\n",
              "       [-0.28081405, -1.35361793],\n",
              "       [ 1.58194247,  1.104501  ],\n",
              "       [-0.77101313, -1.52713221],\n",
              "       [ 0.11134522,  1.8563962 ],\n",
              "       [-0.86905295, -0.775237  ],\n",
              "       [-0.47689368, -0.775237  ],\n",
              "       [-0.28081405, -0.91983223],\n",
              "       [ 0.30742485, -0.71739891],\n",
              "       [ 0.30742485,  0.06341534],\n",
              "       [ 0.11134522,  1.8563962 ],\n",
              "       [-1.06513258,  1.94315334],\n",
              "       [-1.65337148, -1.55605125],\n",
              "       [-1.1631724 , -1.09334651],\n",
              "       [-0.67297331, -0.11009894],\n",
              "       [ 0.11134522,  0.09233438],\n",
              "       [ 0.30742485,  0.26584866],\n",
              "       [ 0.89566375, -0.57280368],\n",
              "       [ 0.30742485, -1.1511846 ],\n",
              "       [-0.08473441,  0.67071531],\n",
              "       [ 2.17018137, -0.68847986],\n",
              "       [-1.26121221, -1.38253697],\n",
              "       [-0.96709276, -0.94875128],\n",
              "       [ 0.0133054 , -0.42820845],\n",
              "       [-0.18277423, -0.45712749],\n",
              "       [-1.7514113 , -0.97767033],\n",
              "       [ 1.7780221 ,  0.98882482],\n",
              "       [ 0.20938504, -0.37037036],\n",
              "       [ 0.40546467,  1.104501  ],\n",
              "       [-1.7514113 , -1.35361793],\n",
              "       [ 0.20938504, -0.13901799],\n",
              "       [ 0.89566375, -1.44037507],\n",
              "       [-1.94749093,  0.46828198],\n",
              "       [-0.28081405,  0.26584866],\n",
              "       [ 1.87606192, -1.06442747],\n",
              "       [-0.37885386,  0.06341534],\n",
              "       [ 1.09174339, -0.89091319],\n",
              "       [-1.06513258, -1.12226556],\n",
              "       [-1.84945111,  0.00557724],\n",
              "       [ 0.11134522,  0.26584866],\n",
              "       [-1.1631724 ,  0.32368675],\n",
              "       [-1.26121221,  0.29476771],\n",
              "       [-0.96709276,  0.43936294],\n",
              "       [ 1.67998229, -0.89091319],\n",
              "       [ 1.1897832 ,  0.52612008],\n",
              "       [ 1.09174339,  0.52612008],\n",
              "       [ 1.38586284,  2.31910094],\n",
              "       [-0.28081405, -0.13901799],\n",
              "       [ 0.40546467, -0.45712749],\n",
              "       [-0.37885386, -0.775237  ],\n",
              "       [-0.08473441, -0.51496559],\n",
              "       [ 0.99370357, -1.1511846 ],\n",
              "       [-0.86905295, -0.775237  ],\n",
              "       [-0.18277423, -0.51496559],\n",
              "       [-1.06513258, -0.45712749],\n",
              "       [-1.1631724 ,  1.39369146]])"
            ]
          },
          "metadata": {},
          "execution_count": 9
        }
      ]
    },
    {
      "cell_type": "code",
      "source": [
        "# So we convert the numpy array (that has been returned by Standard Scaler) into a datafram\n",
        "\n",
        "X_train_scaled = pd.DataFrame(X_train_scaled, columns = X_test.columns)\n",
        "X_test_scaled = pd.DataFrame(X_test_scaled, columns = X_test.columns)\n",
        "print(\"Scaled value of Age and Estimated Salary after converting it into DataFrame: \\n\", X_train_scaled)"
      ],
      "metadata": {
        "colab": {
          "base_uri": "https://localhost:8080/"
        },
        "id": "wKiKXpURo63_",
        "outputId": "a3d1b78c-e273-45a0-ae54-3fa04fa2e502"
      },
      "execution_count": 20,
      "outputs": [
        {
          "output_type": "stream",
          "name": "stdout",
          "text": [
            "Scaled value of Age and Estimated Salary after converting it into DataFrame: \n",
            "           Age  EstimatedSalary\n",
            "0   -1.163172        -1.584970\n",
            "1    2.170181         0.930987\n",
            "2    0.013305         1.220177\n",
            "3    0.209385         1.075582\n",
            "4    0.405465        -0.486047\n",
            "..        ...              ...\n",
            "275  0.993704        -1.151185\n",
            "276 -0.869053        -0.775237\n",
            "277 -0.182774        -0.514966\n",
            "278 -1.065133        -0.457127\n",
            "279 -1.163172         1.393691\n",
            "\n",
            "[280 rows x 2 columns]\n"
          ]
        }
      ]
    },
    {
      "cell_type": "code",
      "source": [
        "# Here you can see mean = 0 and SD = 1\n",
        "\n",
        "np.round(X_train_scaled.describe(),1)"
      ],
      "metadata": {
        "id": "EWFUU0Ocpga1",
        "colab": {
          "base_uri": "https://localhost:8080/",
          "height": 300
        },
        "outputId": "e50e8123-9b08-41fb-8c19-2ef0719a92c8"
      },
      "execution_count": 22,
      "outputs": [
        {
          "output_type": "execute_result",
          "data": {
            "text/plain": [
              "         Age  EstimatedSalary\n",
              "count  280.0            280.0\n",
              "mean     0.0              0.0\n",
              "std      1.0              1.0\n",
              "min     -1.9             -1.6\n",
              "25%     -0.8             -0.8\n",
              "50%     -0.1              0.0\n",
              "75%      0.8              0.5\n",
              "max      2.2              2.3"
            ],
            "text/html": [
              "\n",
              "  <div id=\"df-304079ba-5747-4a29-960a-478ed2046cdd\">\n",
              "    <div class=\"colab-df-container\">\n",
              "      <div>\n",
              "<style scoped>\n",
              "    .dataframe tbody tr th:only-of-type {\n",
              "        vertical-align: middle;\n",
              "    }\n",
              "\n",
              "    .dataframe tbody tr th {\n",
              "        vertical-align: top;\n",
              "    }\n",
              "\n",
              "    .dataframe thead th {\n",
              "        text-align: right;\n",
              "    }\n",
              "</style>\n",
              "<table border=\"1\" class=\"dataframe\">\n",
              "  <thead>\n",
              "    <tr style=\"text-align: right;\">\n",
              "      <th></th>\n",
              "      <th>Age</th>\n",
              "      <th>EstimatedSalary</th>\n",
              "    </tr>\n",
              "  </thead>\n",
              "  <tbody>\n",
              "    <tr>\n",
              "      <th>count</th>\n",
              "      <td>280.0</td>\n",
              "      <td>280.0</td>\n",
              "    </tr>\n",
              "    <tr>\n",
              "      <th>mean</th>\n",
              "      <td>0.0</td>\n",
              "      <td>0.0</td>\n",
              "    </tr>\n",
              "    <tr>\n",
              "      <th>std</th>\n",
              "      <td>1.0</td>\n",
              "      <td>1.0</td>\n",
              "    </tr>\n",
              "    <tr>\n",
              "      <th>min</th>\n",
              "      <td>-1.9</td>\n",
              "      <td>-1.6</td>\n",
              "    </tr>\n",
              "    <tr>\n",
              "      <th>25%</th>\n",
              "      <td>-0.8</td>\n",
              "      <td>-0.8</td>\n",
              "    </tr>\n",
              "    <tr>\n",
              "      <th>50%</th>\n",
              "      <td>-0.1</td>\n",
              "      <td>0.0</td>\n",
              "    </tr>\n",
              "    <tr>\n",
              "      <th>75%</th>\n",
              "      <td>0.8</td>\n",
              "      <td>0.5</td>\n",
              "    </tr>\n",
              "    <tr>\n",
              "      <th>max</th>\n",
              "      <td>2.2</td>\n",
              "      <td>2.3</td>\n",
              "    </tr>\n",
              "  </tbody>\n",
              "</table>\n",
              "</div>\n",
              "      <button class=\"colab-df-convert\" onclick=\"convertToInteractive('df-304079ba-5747-4a29-960a-478ed2046cdd')\"\n",
              "              title=\"Convert this dataframe to an interactive table.\"\n",
              "              style=\"display:none;\">\n",
              "        \n",
              "  <svg xmlns=\"http://www.w3.org/2000/svg\" height=\"24px\"viewBox=\"0 0 24 24\"\n",
              "       width=\"24px\">\n",
              "    <path d=\"M0 0h24v24H0V0z\" fill=\"none\"/>\n",
              "    <path d=\"M18.56 5.44l.94 2.06.94-2.06 2.06-.94-2.06-.94-.94-2.06-.94 2.06-2.06.94zm-11 1L8.5 8.5l.94-2.06 2.06-.94-2.06-.94L8.5 2.5l-.94 2.06-2.06.94zm10 10l.94 2.06.94-2.06 2.06-.94-2.06-.94-.94-2.06-.94 2.06-2.06.94z\"/><path d=\"M17.41 7.96l-1.37-1.37c-.4-.4-.92-.59-1.43-.59-.52 0-1.04.2-1.43.59L10.3 9.45l-7.72 7.72c-.78.78-.78 2.05 0 2.83L4 21.41c.39.39.9.59 1.41.59.51 0 1.02-.2 1.41-.59l7.78-7.78 2.81-2.81c.8-.78.8-2.07 0-2.86zM5.41 20L4 18.59l7.72-7.72 1.47 1.35L5.41 20z\"/>\n",
              "  </svg>\n",
              "      </button>\n",
              "      \n",
              "  <style>\n",
              "    .colab-df-container {\n",
              "      display:flex;\n",
              "      flex-wrap:wrap;\n",
              "      gap: 12px;\n",
              "    }\n",
              "\n",
              "    .colab-df-convert {\n",
              "      background-color: #E8F0FE;\n",
              "      border: none;\n",
              "      border-radius: 50%;\n",
              "      cursor: pointer;\n",
              "      display: none;\n",
              "      fill: #1967D2;\n",
              "      height: 32px;\n",
              "      padding: 0 0 0 0;\n",
              "      width: 32px;\n",
              "    }\n",
              "\n",
              "    .colab-df-convert:hover {\n",
              "      background-color: #E2EBFA;\n",
              "      box-shadow: 0px 1px 2px rgba(60, 64, 67, 0.3), 0px 1px 3px 1px rgba(60, 64, 67, 0.15);\n",
              "      fill: #174EA6;\n",
              "    }\n",
              "\n",
              "    [theme=dark] .colab-df-convert {\n",
              "      background-color: #3B4455;\n",
              "      fill: #D2E3FC;\n",
              "    }\n",
              "\n",
              "    [theme=dark] .colab-df-convert:hover {\n",
              "      background-color: #434B5C;\n",
              "      box-shadow: 0px 1px 3px 1px rgba(0, 0, 0, 0.15);\n",
              "      filter: drop-shadow(0px 1px 2px rgba(0, 0, 0, 0.3));\n",
              "      fill: #FFFFFF;\n",
              "    }\n",
              "  </style>\n",
              "\n",
              "      <script>\n",
              "        const buttonEl =\n",
              "          document.querySelector('#df-304079ba-5747-4a29-960a-478ed2046cdd button.colab-df-convert');\n",
              "        buttonEl.style.display =\n",
              "          google.colab.kernel.accessAllowed ? 'block' : 'none';\n",
              "\n",
              "        async function convertToInteractive(key) {\n",
              "          const element = document.querySelector('#df-304079ba-5747-4a29-960a-478ed2046cdd');\n",
              "          const dataTable =\n",
              "            await google.colab.kernel.invokeFunction('convertToInteractive',\n",
              "                                                     [key], {});\n",
              "          if (!dataTable) return;\n",
              "\n",
              "          const docLinkHtml = 'Like what you see? Visit the ' +\n",
              "            '<a target=\"_blank\" href=https://colab.research.google.com/notebooks/data_table.ipynb>data table notebook</a>'\n",
              "            + ' to learn more about interactive tables.';\n",
              "          element.innerHTML = '';\n",
              "          dataTable['output_type'] = 'display_data';\n",
              "          await google.colab.output.renderOutput(dataTable, element);\n",
              "          const docLink = document.createElement('div');\n",
              "          docLink.innerHTML = docLinkHtml;\n",
              "          element.appendChild(docLink);\n",
              "        }\n",
              "      </script>\n",
              "    </div>\n",
              "  </div>\n",
              "  "
            ]
          },
          "metadata": {},
          "execution_count": 22
        }
      ]
    },
    {
      "cell_type": "markdown",
      "source": [
        "## **Effect of Scaling**"
      ],
      "metadata": {
        "id": "usGOar77sM_X"
      }
    },
    {
      "cell_type": "code",
      "source": [
        "# Here you can see that Scaling did not change the shape of the distribution. It just changed the scale of X and Y axis\n",
        "\n",
        "fig, (ax1,ax2) = plt.subplots(ncols = 2, figsize = (12,5))\n",
        "ax1.scatter(X_train['Age'], X_train['EstimatedSalary'])\n",
        "ax1.set_title('Before Scaling')\n",
        "ax2.scatter(X_train_scaled['Age'], X_train_scaled['EstimatedSalary'], color ='red')\n",
        "ax2.set_title('Before Scaling')\n",
        "plt.show()\n"
      ],
      "metadata": {
        "colab": {
          "base_uri": "https://localhost:8080/",
          "height": 336
        },
        "id": "C2RTMjR1sRfX",
        "outputId": "3d8117fd-9aa5-4b4a-fdc5-f6ed2a961799"
      },
      "execution_count": 27,
      "outputs": [
        {
          "output_type": "display_data",
          "data": {
            "text/plain": [
              "<Figure size 864x360 with 2 Axes>"
            ],
            "image/png": "[encoded data removed]"
          },
          "metadata": {
            "needs_background": "light"
          }
        }
      ]
    },
    {
      "cell_type": "code",
      "source": [
        "# Probability Density Function - Shows how the PDF changes with Scaling with Mean = 0 and SD = 1\n",
        "# blue line represents age while yellow lines represent Estimated Salary\n",
        "\n",
        "fig, (ax1, ax2) = plt.subplots(ncols=2, figsize=(12, 5))\n",
        "\n",
        "# before scaling\n",
        "ax1.set_title('Before Scaling')\n",
        "sns.kdeplot(X_train['Age'], ax=ax1)\n",
        "sns.kdeplot(X_train['EstimatedSalary'], ax=ax1)\n",
        "\n",
        "# after scaling\n",
        "ax2.set_title('After Standard Scaling')\n",
        "sns.kdeplot(X_train_scaled['Age'], ax=ax2)\n",
        "sns.kdeplot(X_train_scaled['EstimatedSalary'], ax=ax2)\n",
        "plt.show()"
      ],
      "metadata": {
        "colab": {
          "base_uri": "https://localhost:8080/",
          "height": 350
        },
        "id": "Juqi1XxttHjG",
        "outputId": "3f52c585-aefa-4a81-8c67-7df3293e542b"
      },
      "execution_count": 29,
      "outputs": [
        {
          "output_type": "display_data",
          "data": {
            "text/plain": [
              "<Figure size 864x360 with 2 Axes>"
            ],
            "image/png": "[encoded data removed]"
          },
          "metadata": {
            "needs_background": "light"
          }
        }
      ]
    }
  ]
}