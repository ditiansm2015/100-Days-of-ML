{
  "nbformat": 4,
  "nbformat_minor": 0,
  "metadata": {
    "colab": {
      "name": "Day 29 - ML pipeline - Test.ipynb",
      "provenance": []
    },
    "kernelspec": {
      "name": "python3",
      "display_name": "Python 3"
    },
    "language_info": {
      "name": "python"
    }
  },
  "cells": [
    {
      "cell_type": "markdown",
      "source": [
        "### **Before working with below code, make sure to import the pickle file which was created in training file (Day 29 - ML pipeline - Train.ipynb)**"
      ],
      "metadata": {
        "id": "H7CA1sUPFfH5"
      }
    },
    {
      "cell_type": "code",
      "execution_count": 1,
      "metadata": {
        "id": "64vp1IOxEdjp"
      },
      "outputs": [],
      "source": [
        "import pickle as pickle\n",
        "import numpy as np"
      ]
    },
    {
      "cell_type": "code",
      "source": [
        "pipe = pickle.load(open('pipe.pkl','rb'))"
      ],
      "metadata": {
        "id": "evgIT7yBEnap"
      },
      "execution_count": 2,
      "outputs": []
    },
    {
      "cell_type": "code",
      "source": [
        "\n",
        "test_data = np.array([2,'male',31.0,0,0,10.5,'S'], dtype = object).reshape(1,7)"
      ],
      "metadata": {
        "id": "evxBgI9lEtDP"
      },
      "execution_count": 3,
      "outputs": []
    },
    {
      "cell_type": "code",
      "source": [
        "pipe.predict(test_data)"
      ],
      "metadata": {
        "colab": {
          "base_uri": "https://localhost:8080/"
        },
        "id": "jVKclCGoE46X",
        "outputId": "9e1a129a-1ac2-4c06-9b15-b71b7adb54da"
      },
      "execution_count": 5,
      "outputs": [
        {
          "output_type": "stream",
          "name": "stderr",
          "text": [
            "/usr/local/lib/python3.7/dist-packages/sklearn/base.py:451: UserWarning: X does not have valid feature names, but SimpleImputer was fitted with feature names\n",
            "  \"X does not have valid feature names, but\"\n",
            "/usr/local/lib/python3.7/dist-packages/sklearn/base.py:451: UserWarning: X does not have valid feature names, but SimpleImputer was fitted with feature names\n",
            "  \"X does not have valid feature names, but\"\n"
          ]
        },
        {
          "output_type": "execute_result",
          "data": {
            "text/plain": [
              "array([0])"
            ]
          },
          "metadata": {},
          "execution_count": 5
        }
      ]
    },
    {
      "cell_type": "markdown",
      "source": [
        "array[0] in the output above means the person will die"
      ],
      "metadata": {
        "id": "SSYUYrvsFF79"
      }
    },
    {
      "cell_type": "markdown",
      "source": [
        "The usage of pipeline is shown here.\n",
        "We need not do all the 5 parts on test data.\n",
        "We used pipeline and all the steps in this notebook is automated through the pipeline we created in training ipynb file"
      ],
      "metadata": {
        "id": "x-3X5betFLFo"
      }
    }
  ]
}