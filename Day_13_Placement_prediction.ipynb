{
  "nbformat": 4,
  "nbformat_minor": 0,
  "metadata": {
    "colab": {
      "name": "Day 13 - Placement prediction.ipynb",
      "provenance": [],
      "authorship_tag": "ABX9TyND8FIisykOS8jBS58FtOfI",
      "include_colab_link": true
    },
    "kernelspec": {
      "name": "python3",
      "display_name": "Python 3"
    },
    "language_info": {
      "name": "python"
    }
  },
  "cells": [
    {
      "cell_type": "markdown",
      "metadata": {
        "id": "view-in-github",
        "colab_type": "text"
      },
      "source": [
        "<a href=\"https://colab.research.google.com/github/ditiansm2015/100-Days-of-ML/blob/main/Day_13_Placement_prediction.ipynb\" target=\"_parent\"><img src=\"https://colab.research.google.com/assets/colab-badge.svg\" alt=\"Open In Colab\"/></a>"
      ]
    },
    {
      "cell_type": "markdown",
      "source": [
        "**Objective** - Given IQ and CGPA predict whether a student would be placed or not"
      ],
      "metadata": {
        "id": "1kEvIAEefL4C"
      }
    },
    {
      "cell_type": "markdown",
      "source": [
        "**CSV file link** - https://github.com/ditiansm2015/100-Days-of-ML/blob/main/datasets/placement.csv"
      ],
      "metadata": {
        "id": "3QDXBAADfHrR"
      }
    },
    {
      "cell_type": "code",
      "source": [
        ""
      ],
      "metadata": {
        "id": "3LTZ8TZWfH1c"
      },
      "execution_count": null,
      "outputs": []
    }
  ]
}